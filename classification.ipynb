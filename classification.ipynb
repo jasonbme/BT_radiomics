{
 "cells": [
  {
   "cell_type": "code",
   "execution_count": 1,
   "id": "70446e16-a4ed-4667-b1cc-937ef3da2e00",
   "metadata": {},
   "outputs": [],
   "source": [
    "import os\n",
    "import pandas as pd\n",
    "import numpy as np\n",
    "from collections import Counter\n",
    "import sklearn\n",
    "from sklearn.model_selection import train_test_split\n",
    "from sklearn.metrics import classification_report, confusion_matrix, accuracy_score,cohen_kappa_score\n",
    "from sklearn.ensemble import RandomForestClassifier"
   ]
  },
  {
   "cell_type": "code",
   "execution_count": 2,
   "id": "0c0ddeca-c701-40e9-bf67-d28c053f8543",
   "metadata": {},
   "outputs": [],
   "source": [
    "def train_test_mapping_split(name_mapping, random_state):\n",
    "    labels = name_mapping.values[:,0]\n",
    "    samples = name_mapping.values[:,1]\n",
    "\n",
    "    (train_samples, test_samples, train_labels, test_labels)= sklearn.model_selection.train_test_split(samples, labels, random_state=random_state, stratify=labels)\n",
    "    \n",
    "    train_mapping = pd.DataFrame({'Grade': train_labels, 'ID': train_samples})    \n",
    "    test_mapping = pd.DataFrame({'Grade': test_labels, 'ID': test_samples})\n",
    "\n",
    "    print(\"Labels distribution:\", Counter(labels))\n",
    "    print(\"Train labels distribution:\", Counter(train_labels))\n",
    "    print(\"Test labels distribution:\",Counter(test_labels))\n",
    "    \n",
    "    return train_mapping, test_mapping"
   ]
  },
  {
   "cell_type": "code",
   "execution_count": 3,
   "id": "84abb9e3-7a80-43b6-8116-7e0004703c82",
   "metadata": {},
   "outputs": [],
   "source": [
    "def train_test_data_split(raw_data, train_mapping, test_mapping):\n",
    "    train_data = pd.DataFrame(columns=raw_data.columns)\n",
    "    test_data = pd.DataFrame(columns=raw_data.columns)\n",
    "    \n",
    "    for case_id in raw_data.index:\n",
    "        case_general_id = case_id[0:20]\n",
    "        if case_general_id in train_mapping.values[:,1]:\n",
    "            train_data.loc[case_id]= raw_data.loc[case_id, :]\n",
    "        elif case_general_id in test_mapping.values[:,1]:\n",
    "            test_data.loc[case_id]= raw_data.loc[case_id, :]\n",
    "            \n",
    "    return train_data, test_data"
   ]
  },
  {
   "cell_type": "code",
   "execution_count": 4,
   "id": "22a3f1b0-23c5-4518-813c-c9a43562ccd2",
   "metadata": {},
   "outputs": [],
   "source": [
    "def split_modalities(input_data):\n",
    "    \n",
    "    flair= pd.DataFrame(columns=input_data.columns)\n",
    "    t1c = pd.DataFrame(columns=input_data.columns)\n",
    "    t1= pd.DataFrame(columns=input_data.columns)\n",
    "    t2 = pd.DataFrame(columns=input_data.columns)\n",
    "    \n",
    "    for case_id in input_data.index:\n",
    "        if \"FLAIR\" in case_id:\n",
    "            flair.loc[case_id]= input_data.loc[case_id, :]\n",
    "        elif \"T1C\" in case_id:\n",
    "            t1c.loc[case_id]= input_data.loc[case_id, :]\n",
    "        elif \"T1\" in case_id:\n",
    "            t1.loc[case_id]= input_data.loc[case_id, :]\n",
    "        elif \"T2\" in case_id:\n",
    "            t2.loc[case_id]= input_data.loc[case_id, :]\n",
    "            \n",
    "            \n",
    "    labels = (flair.loc[:, 'Grade']).to_numpy()\n",
    "    \n",
    "    flair.drop('Grade',axis='columns', inplace=True)\n",
    "    t1c.drop('Grade',axis='columns', inplace=True)\n",
    "    t1.drop('Grade',axis='columns', inplace=True)\n",
    "    t2.drop('Grade',axis='columns', inplace=True)\n",
    "    \n",
    "    return [flair, t1c, t1, t2, labels]"
   ]
  },
  {
   "cell_type": "code",
   "execution_count": 5,
   "id": "5b4a74eb-aa2a-4963-95b7-86e8cd022090",
   "metadata": {},
   "outputs": [],
   "source": [
    "def initialize_classifiers():\n",
    "    flair_cls = RandomForestClassifier()\n",
    "    t1c_cls = RandomForestClassifier()\n",
    "    t1_cls = RandomForestClassifier()\n",
    "    t2_cls = RandomForestClassifier()\n",
    "    \n",
    "    return flair_cls, t1c_cls, t1_cls, t2_cls"
   ]
  },
  {
   "cell_type": "code",
   "execution_count": 6,
   "id": "a3b1eb34-98d9-47b5-845f-3bf1c75085ad",
   "metadata": {},
   "outputs": [],
   "source": [
    "def train_classifiers(train_data_list, classifiers_list):\n",
    "    flair_classifier.fit(train_data_list[0].to_numpy(), train_data_list[4])\n",
    "    t1c_classifier.fit(train_data_list[1].to_numpy(), train_data_list[4])\n",
    "    t1_classifier.fit(train_data_list[2].to_numpy(), train_data_list[4])\n",
    "    t2_classifier.fit(train_data_list[3].to_numpy(), train_data_list[4])"
   ]
  },
  {
   "cell_type": "code",
   "execution_count": 7,
   "id": "6e00564b-662b-4944-9e63-b434f9691141",
   "metadata": {},
   "outputs": [],
   "source": [
    "def checkMajorityElement(voting_arr):\n",
    "    lgg_occurences = voting_arr.count(\"LGG\")\n",
    "    hgg_occurences = voting_arr.count(\"HGG\")\n",
    "    if lgg_occurences >= hgg_occurences:\n",
    "        return \"LGG\"\n",
    "    else:\n",
    "        return \"HGG\""
   ]
  },
  {
   "cell_type": "code",
   "execution_count": 8,
   "id": "6dad17bd-0521-48bf-8fb3-5ed273452b06",
   "metadata": {},
   "outputs": [],
   "source": [
    "def predict(test_data_list, classifiers_list):\n",
    "    results = []\n",
    "    for i in range(len(test_data_list[4])):\n",
    "        voting_arr = []\n",
    "\n",
    "        flair_result = classifiers_list[0].predict(test_data_list[0].iloc[i].to_numpy().reshape(1,-1))[0]\n",
    "        voting_arr.append(flair_result)\n",
    "\n",
    "        t1c_result = classifiers_list[1].predict(test_data_list[1].iloc[i].to_numpy().reshape(1,-1))[0]\n",
    "        voting_arr.append(t1c_result)\n",
    "\n",
    "        t1_result = classifiers_list[2].predict(test_data_list[2].iloc[i].to_numpy().reshape(1,-1))[0]\n",
    "        voting_arr.append(t1_result)\n",
    "\n",
    "        t2_result = classifiers_list[3].predict(test_data_list[3].iloc[i].to_numpy().reshape(1,-1))[0]\n",
    "        voting_arr.append(t2_result)\n",
    "\n",
    "        final_prediction = checkMajorityElement(voting_arr)\n",
    "\n",
    "        results.append(final_prediction)\n",
    "        \n",
    "    results = np.array(results)\n",
    "    return results"
   ]
  },
  {
   "cell_type": "code",
   "execution_count": 9,
   "id": "874ce0ee-bcad-4ec9-912a-5fe9a6a86864",
   "metadata": {},
   "outputs": [],
   "source": [
    "raw_data = pd.read_csv(\"output/selected_features.csv\", index_col=0)\n",
    "name_mapping = pd.read_csv(\"data/name_mapping.csv\")"
   ]
  },
  {
   "cell_type": "code",
   "execution_count": 10,
   "id": "9e6ca0cf-a65e-4a73-8f12-3e03b1fc0a39",
   "metadata": {},
   "outputs": [
    {
     "name": "stdout",
     "output_type": "stream",
     "text": [
      "Labels distribution: Counter({'HGG': 292, 'LGG': 76})\n",
      "Train labels distribution: Counter({'HGG': 219, 'LGG': 57})\n",
      "Test labels distribution: Counter({'HGG': 73, 'LGG': 19})\n"
     ]
    }
   ],
   "source": [
    "(train_mapping, test_mapping) = train_test_mapping_split(name_mapping, 35)"
   ]
  },
  {
   "cell_type": "code",
   "execution_count": 11,
   "id": "43447458-3684-44eb-a781-ea934517ca32",
   "metadata": {},
   "outputs": [],
   "source": [
    "(train_data, test_data) = train_test_data_split(raw_data, train_mapping, test_mapping)"
   ]
  },
  {
   "cell_type": "code",
   "execution_count": 12,
   "id": "d53bb5a1-70e6-456c-a95e-c50067ac9000",
   "metadata": {},
   "outputs": [],
   "source": [
    "train_data_list = split_modalities(train_data)\n",
    "test_data_list = split_modalities(test_data)"
   ]
  },
  {
   "cell_type": "code",
   "execution_count": 13,
   "id": "2e165e4c-1116-4655-a305-0b577f7c0f69",
   "metadata": {},
   "outputs": [],
   "source": [
    "(flair_classifier, t1c_classifier, t1_classifier, t2_classifier) = initialize_classifiers()\n",
    "classifiers_list = [flair_classifier, t1c_classifier, t1_classifier, t2_classifier]"
   ]
  },
  {
   "cell_type": "code",
   "execution_count": 14,
   "id": "0247f2b8-d8eb-4b46-80d2-fd6b349cb1cd",
   "metadata": {},
   "outputs": [],
   "source": [
    "train_classifiers(train_data_list, classifiers_list)"
   ]
  },
  {
   "cell_type": "code",
   "execution_count": 15,
   "id": "8869f070-283a-4d9b-a5a0-de2d8ed3ced6",
   "metadata": {},
   "outputs": [],
   "source": [
    "results = predict(test_data_list, classifiers_list)"
   ]
  },
  {
   "cell_type": "code",
   "execution_count": 16,
   "id": "868806dd-55dc-4ec1-ae28-4aea18cf09a8",
   "metadata": {},
   "outputs": [
    {
     "name": "stdout",
     "output_type": "stream",
     "text": [
      "[[66  7]\n",
      " [ 7 12]]\n",
      "              precision    recall  f1-score   support\n",
      "\n",
      "         HGG       0.90      0.90      0.90        73\n",
      "         LGG       0.63      0.63      0.63        19\n",
      "\n",
      "    accuracy                           0.85        92\n",
      "   macro avg       0.77      0.77      0.77        92\n",
      "weighted avg       0.85      0.85      0.85        92\n",
      "\n",
      "Accuracy: 0.84783\n",
      "Cohen's Kappa: 0.53569\n"
     ]
    }
   ],
   "source": [
    "print(confusion_matrix(test_data_list[4], results))\n",
    "print(classification_report(test_data_list[4], results))\n",
    "\n",
    "accuracy = accuracy_score(test_data_list[4], results) \n",
    "print(\"Accuracy: {:.5f}\".format(accuracy))\n",
    "print(\"Cohen's Kappa: {:.5f}\".format(cohen_kappa_score(test_data_list[4], results)))"
   ]
  },
  {
   "cell_type": "code",
   "execution_count": null,
   "id": "1d9704a4-389e-4a5a-8965-1e02aa24f03a",
   "metadata": {},
   "outputs": [],
   "source": []
  }
 ],
 "metadata": {
  "kernelspec": {
   "display_name": "Python 3 (ipykernel)",
   "language": "python",
   "name": "python3"
  },
  "language_info": {
   "codemirror_mode": {
    "name": "ipython",
    "version": 3
   },
   "file_extension": ".py",
   "mimetype": "text/x-python",
   "name": "python",
   "nbconvert_exporter": "python",
   "pygments_lexer": "ipython3",
   "version": "3.7.11"
  }
 },
 "nbformat": 4,
 "nbformat_minor": 5
}

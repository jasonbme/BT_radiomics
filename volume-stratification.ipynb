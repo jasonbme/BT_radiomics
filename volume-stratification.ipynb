{
 "cells": [
  {
   "cell_type": "code",
   "execution_count": 39,
   "id": "b98d7af6-5cfa-4a7f-b481-2b5488bc4593",
   "metadata": {},
   "outputs": [],
   "source": [
    "import pandas as pd\n",
    "import numpy as np"
   ]
  },
  {
   "cell_type": "code",
   "execution_count": 40,
   "id": "cbd246ef-5a54-4c40-ab8d-dda2947e6cb9",
   "metadata": {},
   "outputs": [],
   "source": [
    "original_features = pd.read_csv('output/ENS_mask_features.csv', index_col=0)\n",
    "name_mapping = pd.read_csv(\"mapping/name_mapping.csv\")"
   ]
  },
  {
   "cell_type": "code",
   "execution_count": 41,
   "id": "32d75947-97d2-4ff5-98b6-c7304a5244fb",
   "metadata": {},
   "outputs": [],
   "source": [
    "volumes = original_features.loc[:, [\"original_shape_VoxelVolume\"]]"
   ]
  },
  {
   "cell_type": "code",
   "execution_count": 42,
   "id": "734b2690-6bef-4887-8e11-4fc8a1404639",
   "metadata": {},
   "outputs": [],
   "source": [
    "new_volumes = pd.DataFrame(index=name_mapping[\"BraTS_2020_subject_ID\"], columns=[\"original_shape_VoxelVolume\"])"
   ]
  },
  {
   "cell_type": "code",
   "execution_count": 43,
   "id": "aea0d113-eee7-4cbb-8694-eb4e84f85f9d",
   "metadata": {},
   "outputs": [],
   "source": [
    "for case_id in volumes.index:\n",
    "    if \"FLAIR\" in case_id:\n",
    "        new_name = case_id[0:20]\n",
    "        new_volumes.loc[new_name] = volumes.loc[case_id]"
   ]
  },
  {
   "cell_type": "code",
   "execution_count": 44,
   "id": "359428e7-e00b-4dd8-aa70-eaf8c1d2319c",
   "metadata": {},
   "outputs": [],
   "source": [
    "volume_list = []\n",
    "for case_id in new_volumes.index:\n",
    "    volume = float(new_volumes.loc[[case_id],['original_shape_VoxelVolume']].values[0])\n",
    "    volume_list.append(volume)"
   ]
  },
  {
   "cell_type": "code",
   "execution_count": 45,
   "id": "33f8a59e-4a88-4598-bbc0-f00b6a8a7160",
   "metadata": {},
   "outputs": [],
   "source": [
    "name_mapping[\"Volume-ENS\"] = volume_list"
   ]
  },
  {
   "cell_type": "code",
   "execution_count": 46,
   "id": "f901e7f0-da4d-4c3b-b5d5-41a8314f0a47",
   "metadata": {},
   "outputs": [],
   "source": [
    "name_mapping.to_csv(\"mapping/name_mapping.csv\", index=False)"
   ]
  },
  {
   "cell_type": "code",
   "execution_count": 69,
   "id": "6118b7e7-3d48-4b22-a06f-afc2f34c6ac8",
   "metadata": {},
   "outputs": [
    {
     "data": {
      "text/plain": [
       "3905.0"
      ]
     },
     "execution_count": 69,
     "metadata": {},
     "output_type": "execute_result"
    }
   ],
   "source": [
    "Q1 = new_volumes.original_shape_VoxelVolume.quantile([0.25]).to_numpy()[0]\n",
    "Q1"
   ]
  },
  {
   "cell_type": "code",
   "execution_count": 71,
   "id": "eb7d7960-1b98-4e4b-9d3e-fa42e769008d",
   "metadata": {},
   "outputs": [
    {
     "data": {
      "text/plain": [
       "25416.75"
      ]
     },
     "execution_count": 71,
     "metadata": {},
     "output_type": "execute_result"
    }
   ],
   "source": [
    "Q3 = new_volumes.original_shape_VoxelVolume.quantile([0.75]).to_numpy()[0]\n",
    "Q3"
   ]
  },
  {
   "cell_type": "code",
   "execution_count": 72,
   "id": "e3c1cb88-46bb-4622-924b-e3d9b4dc0ac1",
   "metadata": {},
   "outputs": [],
   "source": [
    "volume_list = []\n",
    "for case_id in new_volumes.index:\n",
    "    volume = float(new_volumes.loc[[case_id],['original_shape_VoxelVolume']].values[0])\n",
    "    volume_list.append(volume)\n",
    "    if volume <= Q1:\n",
    "        new_volumes.loc[[case_id],['Size']] = \"SMALL\"\n",
    "    if volume > Q1 and volume < Q3:\n",
    "        new_volumes.loc[[case_id],['Size']] = \"MEDIUM\"\n",
    "    if volume >= Q3:\n",
    "        new_volumes.loc[[case_id],['Size']] = \"LARGE\""
   ]
  },
  {
   "cell_type": "code",
   "execution_count": 73,
   "id": "1ca27ac3-68df-48b2-890e-989408dfa7b3",
   "metadata": {},
   "outputs": [],
   "source": [
    "name_mapping[\"Size\"] = new_volumes[\"Size\"].to_list()\n",
    "name_mapping[\"Volume\"] = volume_list"
   ]
  },
  {
   "cell_type": "code",
   "execution_count": 74,
   "id": "3bbe32a8-9cc4-47a0-b3e2-311d22ff14db",
   "metadata": {},
   "outputs": [],
   "source": [
    "strat_values = []\n",
    "for id in name_mapping.index:\n",
    "    grade = str(name_mapping.loc[[id],['Grade']].values[0][0])\n",
    "    size = str(name_mapping.loc[[id],['Size']].values[0][0])\n",
    "    strat_value = grade + \"_\" + size\n",
    "    strat_values.append(strat_value)"
   ]
  },
  {
   "cell_type": "code",
   "execution_count": 75,
   "id": "54390797-d162-42ee-b1c4-348a1fd78656",
   "metadata": {},
   "outputs": [],
   "source": [
    "name_mapping[\"Stratification_Label\"] = strat_values\n",
    "# del name_mapping[\"Size\"]"
   ]
  },
  {
   "cell_type": "code",
   "execution_count": 77,
   "id": "3ebc31c7-f844-4b01-ad5a-b54d28474b6c",
   "metadata": {},
   "outputs": [],
   "source": [
    "name_mapping.to_csv(\"mapping/name_mapping.csv\", index=False)"
   ]
  },
  {
   "cell_type": "code",
   "execution_count": 76,
   "id": "65876262-de05-41e9-8e24-df179488ac62",
   "metadata": {},
   "outputs": [
    {
     "data": {
      "text/html": [
       "<div>\n",
       "<style scoped>\n",
       "    .dataframe tbody tr th:only-of-type {\n",
       "        vertical-align: middle;\n",
       "    }\n",
       "\n",
       "    .dataframe tbody tr th {\n",
       "        vertical-align: top;\n",
       "    }\n",
       "\n",
       "    .dataframe thead th {\n",
       "        text-align: right;\n",
       "    }\n",
       "</style>\n",
       "<table border=\"1\" class=\"dataframe\">\n",
       "  <thead>\n",
       "    <tr style=\"text-align: right;\">\n",
       "      <th></th>\n",
       "      <th>Grade</th>\n",
       "      <th>BraTS_2020_subject_ID</th>\n",
       "      <th>Stratification_Label</th>\n",
       "      <th>Size</th>\n",
       "      <th>Volume</th>\n",
       "    </tr>\n",
       "  </thead>\n",
       "  <tbody>\n",
       "    <tr>\n",
       "      <th>0</th>\n",
       "      <td>HGG</td>\n",
       "      <td>BraTS20_Training_001</td>\n",
       "      <td>HGG_MEDIUM</td>\n",
       "      <td>MEDIUM</td>\n",
       "      <td>15443.0</td>\n",
       "    </tr>\n",
       "    <tr>\n",
       "      <th>1</th>\n",
       "      <td>HGG</td>\n",
       "      <td>BraTS20_Training_002</td>\n",
       "      <td>HGG_MEDIUM</td>\n",
       "      <td>MEDIUM</td>\n",
       "      <td>9160.0</td>\n",
       "    </tr>\n",
       "    <tr>\n",
       "      <th>2</th>\n",
       "      <td>HGG</td>\n",
       "      <td>BraTS20_Training_003</td>\n",
       "      <td>HGG_SMALL</td>\n",
       "      <td>SMALL</td>\n",
       "      <td>733.0</td>\n",
       "    </tr>\n",
       "    <tr>\n",
       "      <th>3</th>\n",
       "      <td>HGG</td>\n",
       "      <td>BraTS20_Training_004</td>\n",
       "      <td>HGG_MEDIUM</td>\n",
       "      <td>MEDIUM</td>\n",
       "      <td>10902.0</td>\n",
       "    </tr>\n",
       "    <tr>\n",
       "      <th>4</th>\n",
       "      <td>HGG</td>\n",
       "      <td>BraTS20_Training_005</td>\n",
       "      <td>HGG_SMALL</td>\n",
       "      <td>SMALL</td>\n",
       "      <td>3624.0</td>\n",
       "    </tr>\n",
       "    <tr>\n",
       "      <th>...</th>\n",
       "      <td>...</td>\n",
       "      <td>...</td>\n",
       "      <td>...</td>\n",
       "      <td>...</td>\n",
       "      <td>...</td>\n",
       "    </tr>\n",
       "    <tr>\n",
       "      <th>363</th>\n",
       "      <td>HGG</td>\n",
       "      <td>BraTS20_Training_365</td>\n",
       "      <td>HGG_LARGE</td>\n",
       "      <td>LARGE</td>\n",
       "      <td>32310.0</td>\n",
       "    </tr>\n",
       "    <tr>\n",
       "      <th>364</th>\n",
       "      <td>HGG</td>\n",
       "      <td>BraTS20_Training_366</td>\n",
       "      <td>HGG_MEDIUM</td>\n",
       "      <td>MEDIUM</td>\n",
       "      <td>3916.0</td>\n",
       "    </tr>\n",
       "    <tr>\n",
       "      <th>365</th>\n",
       "      <td>HGG</td>\n",
       "      <td>BraTS20_Training_367</td>\n",
       "      <td>HGG_SMALL</td>\n",
       "      <td>SMALL</td>\n",
       "      <td>1976.0</td>\n",
       "    </tr>\n",
       "    <tr>\n",
       "      <th>366</th>\n",
       "      <td>HGG</td>\n",
       "      <td>BraTS20_Training_368</td>\n",
       "      <td>HGG_SMALL</td>\n",
       "      <td>SMALL</td>\n",
       "      <td>1331.0</td>\n",
       "    </tr>\n",
       "    <tr>\n",
       "      <th>367</th>\n",
       "      <td>HGG</td>\n",
       "      <td>BraTS20_Training_369</td>\n",
       "      <td>HGG_MEDIUM</td>\n",
       "      <td>MEDIUM</td>\n",
       "      <td>20589.0</td>\n",
       "    </tr>\n",
       "  </tbody>\n",
       "</table>\n",
       "<p>368 rows × 5 columns</p>\n",
       "</div>"
      ],
      "text/plain": [
       "    Grade BraTS_2020_subject_ID Stratification_Label    Size   Volume\n",
       "0     HGG  BraTS20_Training_001           HGG_MEDIUM  MEDIUM  15443.0\n",
       "1     HGG  BraTS20_Training_002           HGG_MEDIUM  MEDIUM   9160.0\n",
       "2     HGG  BraTS20_Training_003            HGG_SMALL   SMALL    733.0\n",
       "3     HGG  BraTS20_Training_004           HGG_MEDIUM  MEDIUM  10902.0\n",
       "4     HGG  BraTS20_Training_005            HGG_SMALL   SMALL   3624.0\n",
       "..    ...                   ...                  ...     ...      ...\n",
       "363   HGG  BraTS20_Training_365            HGG_LARGE   LARGE  32310.0\n",
       "364   HGG  BraTS20_Training_366           HGG_MEDIUM  MEDIUM   3916.0\n",
       "365   HGG  BraTS20_Training_367            HGG_SMALL   SMALL   1976.0\n",
       "366   HGG  BraTS20_Training_368            HGG_SMALL   SMALL   1331.0\n",
       "367   HGG  BraTS20_Training_369           HGG_MEDIUM  MEDIUM  20589.0\n",
       "\n",
       "[368 rows x 5 columns]"
      ]
     },
     "execution_count": 76,
     "metadata": {},
     "output_type": "execute_result"
    }
   ],
   "source": [
    "name_mapping"
   ]
  },
  {
   "cell_type": "code",
   "execution_count": 12,
   "id": "3f47ece4-da53-427e-a31a-10e97bca222c",
   "metadata": {},
   "outputs": [],
   "source": [
    "del name_mapping[\"Stratification_Label\"]"
   ]
  },
  {
   "cell_type": "code",
   "execution_count": 13,
   "id": "96eaec55-cfdb-4550-9b20-1094c30db39c",
   "metadata": {},
   "outputs": [
    {
     "data": {
      "text/html": [
       "<div>\n",
       "<style scoped>\n",
       "    .dataframe tbody tr th:only-of-type {\n",
       "        vertical-align: middle;\n",
       "    }\n",
       "\n",
       "    .dataframe tbody tr th {\n",
       "        vertical-align: top;\n",
       "    }\n",
       "\n",
       "    .dataframe thead th {\n",
       "        text-align: right;\n",
       "    }\n",
       "</style>\n",
       "<table border=\"1\" class=\"dataframe\">\n",
       "  <thead>\n",
       "    <tr style=\"text-align: right;\">\n",
       "      <th></th>\n",
       "      <th>Grade</th>\n",
       "      <th>BraTS_2020_subject_ID</th>\n",
       "      <th>Size</th>\n",
       "    </tr>\n",
       "  </thead>\n",
       "  <tbody>\n",
       "    <tr>\n",
       "      <th>0</th>\n",
       "      <td>HGG</td>\n",
       "      <td>BraTS20_Training_001</td>\n",
       "      <td>MEDIUM</td>\n",
       "    </tr>\n",
       "    <tr>\n",
       "      <th>1</th>\n",
       "      <td>HGG</td>\n",
       "      <td>BraTS20_Training_002</td>\n",
       "      <td>MEDIUM</td>\n",
       "    </tr>\n",
       "    <tr>\n",
       "      <th>2</th>\n",
       "      <td>HGG</td>\n",
       "      <td>BraTS20_Training_003</td>\n",
       "      <td>SMALL</td>\n",
       "    </tr>\n",
       "    <tr>\n",
       "      <th>3</th>\n",
       "      <td>HGG</td>\n",
       "      <td>BraTS20_Training_004</td>\n",
       "      <td>MEDIUM</td>\n",
       "    </tr>\n",
       "    <tr>\n",
       "      <th>4</th>\n",
       "      <td>HGG</td>\n",
       "      <td>BraTS20_Training_005</td>\n",
       "      <td>SMALL</td>\n",
       "    </tr>\n",
       "    <tr>\n",
       "      <th>...</th>\n",
       "      <td>...</td>\n",
       "      <td>...</td>\n",
       "      <td>...</td>\n",
       "    </tr>\n",
       "    <tr>\n",
       "      <th>363</th>\n",
       "      <td>HGG</td>\n",
       "      <td>BraTS20_Training_365</td>\n",
       "      <td>LARGE</td>\n",
       "    </tr>\n",
       "    <tr>\n",
       "      <th>364</th>\n",
       "      <td>HGG</td>\n",
       "      <td>BraTS20_Training_366</td>\n",
       "      <td>MEDIUM</td>\n",
       "    </tr>\n",
       "    <tr>\n",
       "      <th>365</th>\n",
       "      <td>HGG</td>\n",
       "      <td>BraTS20_Training_367</td>\n",
       "      <td>SMALL</td>\n",
       "    </tr>\n",
       "    <tr>\n",
       "      <th>366</th>\n",
       "      <td>HGG</td>\n",
       "      <td>BraTS20_Training_368</td>\n",
       "      <td>SMALL</td>\n",
       "    </tr>\n",
       "    <tr>\n",
       "      <th>367</th>\n",
       "      <td>HGG</td>\n",
       "      <td>BraTS20_Training_369</td>\n",
       "      <td>MEDIUM</td>\n",
       "    </tr>\n",
       "  </tbody>\n",
       "</table>\n",
       "<p>368 rows × 3 columns</p>\n",
       "</div>"
      ],
      "text/plain": [
       "    Grade BraTS_2020_subject_ID    Size\n",
       "0     HGG  BraTS20_Training_001  MEDIUM\n",
       "1     HGG  BraTS20_Training_002  MEDIUM\n",
       "2     HGG  BraTS20_Training_003   SMALL\n",
       "3     HGG  BraTS20_Training_004  MEDIUM\n",
       "4     HGG  BraTS20_Training_005   SMALL\n",
       "..    ...                   ...     ...\n",
       "363   HGG  BraTS20_Training_365   LARGE\n",
       "364   HGG  BraTS20_Training_366  MEDIUM\n",
       "365   HGG  BraTS20_Training_367   SMALL\n",
       "366   HGG  BraTS20_Training_368   SMALL\n",
       "367   HGG  BraTS20_Training_369  MEDIUM\n",
       "\n",
       "[368 rows x 3 columns]"
      ]
     },
     "execution_count": 13,
     "metadata": {},
     "output_type": "execute_result"
    }
   ],
   "source": [
    "name_mapping"
   ]
  },
  {
   "cell_type": "code",
   "execution_count": 18,
   "id": "de641ae4-c4aa-4544-9fe2-267e7ee6d563",
   "metadata": {},
   "outputs": [],
   "source": [
    "is_SMALL =  name_mapping['Size']=='SMALL'\n",
    "is_MEDIUM =  name_mapping['Size']=='MEDIUM'\n",
    "is_LARGE =  name_mapping['Size']=='LARGE'\n",
    "small_cases = name_mapping[is_SMALL]\n",
    "medium_cases = name_mapping[is_MEDIUM]\n",
    "large_cases = name_mapping[is_LARGE]"
   ]
  },
  {
   "cell_type": "code",
   "execution_count": 23,
   "id": "bdcfb360-4b84-404f-a9fa-c4f2f681a93d",
   "metadata": {},
   "outputs": [],
   "source": [
    "small_cases.to_csv(\"mapping/small_mapping.csv\", index=False)\n",
    "medium_cases.to_csv(\"mapping/medium_mapping.csv\", index=False)\n",
    "large_cases.to_csv(\"mapping/large_mapping.csv\", index=False)"
   ]
  },
  {
   "cell_type": "code",
   "execution_count": null,
   "id": "980727ef-9223-4c75-9ea2-074a52d9efc0",
   "metadata": {},
   "outputs": [],
   "source": []
  }
 ],
 "metadata": {
  "kernelspec": {
   "display_name": "Python 3 (ipykernel)",
   "language": "python",
   "name": "python3"
  },
  "language_info": {
   "codemirror_mode": {
    "name": "ipython",
    "version": 3
   },
   "file_extension": ".py",
   "mimetype": "text/x-python",
   "name": "python",
   "nbconvert_exporter": "python",
   "pygments_lexer": "ipython3",
   "version": "3.7.11"
  }
 },
 "nbformat": 4,
 "nbformat_minor": 5
}

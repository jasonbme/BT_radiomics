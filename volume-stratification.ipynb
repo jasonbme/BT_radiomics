{
 "cells": [
  {
   "cell_type": "code",
   "execution_count": 25,
   "id": "b98d7af6-5cfa-4a7f-b481-2b5488bc4593",
   "metadata": {},
   "outputs": [],
   "source": [
    "import pandas as pd\n",
    "import numpy as np"
   ]
  },
  {
   "cell_type": "code",
   "execution_count": 26,
   "id": "cbd246ef-5a54-4c40-ab8d-dda2947e6cb9",
   "metadata": {},
   "outputs": [],
   "source": [
    "original_features = pd.read_csv('output/GT_mask_features.csv', index_col=0)\n",
    "name_mapping = pd.read_csv(\"mapping/name_mapping.csv\")"
   ]
  },
  {
   "cell_type": "code",
   "execution_count": 27,
   "id": "32d75947-97d2-4ff5-98b6-c7304a5244fb",
   "metadata": {},
   "outputs": [
    {
     "data": {
      "text/html": [
       "<div>\n",
       "<style scoped>\n",
       "    .dataframe tbody tr th:only-of-type {\n",
       "        vertical-align: middle;\n",
       "    }\n",
       "\n",
       "    .dataframe tbody tr th {\n",
       "        vertical-align: top;\n",
       "    }\n",
       "\n",
       "    .dataframe thead th {\n",
       "        text-align: right;\n",
       "    }\n",
       "</style>\n",
       "<table border=\"1\" class=\"dataframe\">\n",
       "  <thead>\n",
       "    <tr style=\"text-align: right;\">\n",
       "      <th></th>\n",
       "      <th>original_shape_VoxelVolume</th>\n",
       "    </tr>\n",
       "  </thead>\n",
       "  <tbody>\n",
       "    <tr>\n",
       "      <th>BraTS20_Training_001_FLAIR</th>\n",
       "      <td>211979.0</td>\n",
       "    </tr>\n",
       "    <tr>\n",
       "      <th>BraTS20_Training_001_T1</th>\n",
       "      <td>211979.0</td>\n",
       "    </tr>\n",
       "    <tr>\n",
       "      <th>BraTS20_Training_001_T1C</th>\n",
       "      <td>211979.0</td>\n",
       "    </tr>\n",
       "    <tr>\n",
       "      <th>BraTS20_Training_001_T2</th>\n",
       "      <td>211979.0</td>\n",
       "    </tr>\n",
       "    <tr>\n",
       "      <th>BraTS20_Training_002_FLAIR</th>\n",
       "      <td>67008.0</td>\n",
       "    </tr>\n",
       "    <tr>\n",
       "      <th>...</th>\n",
       "      <td>...</td>\n",
       "    </tr>\n",
       "    <tr>\n",
       "      <th>BraTS20_Training_368_T2</th>\n",
       "      <td>83463.0</td>\n",
       "    </tr>\n",
       "    <tr>\n",
       "      <th>BraTS20_Training_369_FLAIR</th>\n",
       "      <td>224832.0</td>\n",
       "    </tr>\n",
       "    <tr>\n",
       "      <th>BraTS20_Training_369_T1</th>\n",
       "      <td>224832.0</td>\n",
       "    </tr>\n",
       "    <tr>\n",
       "      <th>BraTS20_Training_369_T1C</th>\n",
       "      <td>224832.0</td>\n",
       "    </tr>\n",
       "    <tr>\n",
       "      <th>BraTS20_Training_369_T2</th>\n",
       "      <td>224832.0</td>\n",
       "    </tr>\n",
       "  </tbody>\n",
       "</table>\n",
       "<p>1472 rows × 1 columns</p>\n",
       "</div>"
      ],
      "text/plain": [
       "                            original_shape_VoxelVolume\n",
       "BraTS20_Training_001_FLAIR                    211979.0\n",
       "BraTS20_Training_001_T1                       211979.0\n",
       "BraTS20_Training_001_T1C                      211979.0\n",
       "BraTS20_Training_001_T2                       211979.0\n",
       "BraTS20_Training_002_FLAIR                     67008.0\n",
       "...                                                ...\n",
       "BraTS20_Training_368_T2                        83463.0\n",
       "BraTS20_Training_369_FLAIR                    224832.0\n",
       "BraTS20_Training_369_T1                       224832.0\n",
       "BraTS20_Training_369_T1C                      224832.0\n",
       "BraTS20_Training_369_T2                       224832.0\n",
       "\n",
       "[1472 rows x 1 columns]"
      ]
     },
     "execution_count": 27,
     "metadata": {},
     "output_type": "execute_result"
    }
   ],
   "source": [
    "volumes = original_features.loc[:, [\"original_shape_VoxelVolume\"]]\n",
    "volumes"
   ]
  },
  {
   "cell_type": "code",
   "execution_count": 28,
   "id": "734b2690-6bef-4887-8e11-4fc8a1404639",
   "metadata": {},
   "outputs": [
    {
     "data": {
      "text/html": [
       "<div>\n",
       "<style scoped>\n",
       "    .dataframe tbody tr th:only-of-type {\n",
       "        vertical-align: middle;\n",
       "    }\n",
       "\n",
       "    .dataframe tbody tr th {\n",
       "        vertical-align: top;\n",
       "    }\n",
       "\n",
       "    .dataframe thead th {\n",
       "        text-align: right;\n",
       "    }\n",
       "</style>\n",
       "<table border=\"1\" class=\"dataframe\">\n",
       "  <thead>\n",
       "    <tr style=\"text-align: right;\">\n",
       "      <th></th>\n",
       "      <th>original_shape_VoxelVolume</th>\n",
       "    </tr>\n",
       "    <tr>\n",
       "      <th>BraTS_2020_subject_ID</th>\n",
       "      <th></th>\n",
       "    </tr>\n",
       "  </thead>\n",
       "  <tbody>\n",
       "    <tr>\n",
       "      <th>BraTS20_Training_001</th>\n",
       "      <td>NaN</td>\n",
       "    </tr>\n",
       "    <tr>\n",
       "      <th>BraTS20_Training_002</th>\n",
       "      <td>NaN</td>\n",
       "    </tr>\n",
       "    <tr>\n",
       "      <th>BraTS20_Training_003</th>\n",
       "      <td>NaN</td>\n",
       "    </tr>\n",
       "    <tr>\n",
       "      <th>BraTS20_Training_004</th>\n",
       "      <td>NaN</td>\n",
       "    </tr>\n",
       "    <tr>\n",
       "      <th>BraTS20_Training_005</th>\n",
       "      <td>NaN</td>\n",
       "    </tr>\n",
       "    <tr>\n",
       "      <th>...</th>\n",
       "      <td>...</td>\n",
       "    </tr>\n",
       "    <tr>\n",
       "      <th>BraTS20_Training_365</th>\n",
       "      <td>NaN</td>\n",
       "    </tr>\n",
       "    <tr>\n",
       "      <th>BraTS20_Training_366</th>\n",
       "      <td>NaN</td>\n",
       "    </tr>\n",
       "    <tr>\n",
       "      <th>BraTS20_Training_367</th>\n",
       "      <td>NaN</td>\n",
       "    </tr>\n",
       "    <tr>\n",
       "      <th>BraTS20_Training_368</th>\n",
       "      <td>NaN</td>\n",
       "    </tr>\n",
       "    <tr>\n",
       "      <th>BraTS20_Training_369</th>\n",
       "      <td>NaN</td>\n",
       "    </tr>\n",
       "  </tbody>\n",
       "</table>\n",
       "<p>368 rows × 1 columns</p>\n",
       "</div>"
      ],
      "text/plain": [
       "                      original_shape_VoxelVolume\n",
       "BraTS_2020_subject_ID                           \n",
       "BraTS20_Training_001                         NaN\n",
       "BraTS20_Training_002                         NaN\n",
       "BraTS20_Training_003                         NaN\n",
       "BraTS20_Training_004                         NaN\n",
       "BraTS20_Training_005                         NaN\n",
       "...                                          ...\n",
       "BraTS20_Training_365                         NaN\n",
       "BraTS20_Training_366                         NaN\n",
       "BraTS20_Training_367                         NaN\n",
       "BraTS20_Training_368                         NaN\n",
       "BraTS20_Training_369                         NaN\n",
       "\n",
       "[368 rows x 1 columns]"
      ]
     },
     "execution_count": 28,
     "metadata": {},
     "output_type": "execute_result"
    }
   ],
   "source": [
    "new_volumes = pd.DataFrame(index=name_mapping[\"BraTS_2020_subject_ID\"], columns=[\"original_shape_VoxelVolume\"])\n",
    "new_volumes"
   ]
  },
  {
   "cell_type": "code",
   "execution_count": 29,
   "id": "aea0d113-eee7-4cbb-8694-eb4e84f85f9d",
   "metadata": {},
   "outputs": [],
   "source": [
    "for case_id in volumes.index:\n",
    "    if \"FLAIR\" in case_id:\n",
    "        new_name = case_id[0:20]\n",
    "        new_volumes.loc[new_name] = volumes.loc[case_id]"
   ]
  },
  {
   "cell_type": "code",
   "execution_count": 30,
   "id": "6118b7e7-3d48-4b22-a06f-afc2f34c6ac8",
   "metadata": {},
   "outputs": [
    {
     "data": {
      "text/plain": [
       "51063.5"
      ]
     },
     "execution_count": 30,
     "metadata": {},
     "output_type": "execute_result"
    }
   ],
   "source": [
    "Q1 = new_volumes.original_shape_VoxelVolume.quantile([0.25]).to_numpy()[0]\n",
    "Q1"
   ]
  },
  {
   "cell_type": "code",
   "execution_count": 31,
   "id": "eb7d7960-1b98-4e4b-9d3e-fa42e769008d",
   "metadata": {},
   "outputs": [
    {
     "data": {
      "text/plain": [
       "145466.5"
      ]
     },
     "execution_count": 31,
     "metadata": {},
     "output_type": "execute_result"
    }
   ],
   "source": [
    "Q3 = new_volumes.original_shape_VoxelVolume.quantile([0.75]).to_numpy()[0]\n",
    "Q3"
   ]
  },
  {
   "cell_type": "code",
   "execution_count": null,
   "id": "e3c1cb88-46bb-4622-924b-e3d9b4dc0ac1",
   "metadata": {},
   "outputs": [],
   "source": [
    "volume_list = []\n",
    "for case_id in new_volumes.index:\n",
    "    volume = float(new_volumes.loc[[case_id],['original_shape_VoxelVolume']].values[0])\n",
    "    volume_list.append(volume)\n",
    "    if volume <= Q1:\n",
    "        new_volumes.loc[[case_id],['Size']] = \"SMALL\"\n",
    "    if volume > Q1 and volume < Q3:\n",
    "        new_volumes.loc[[case_id],['Size']] = \"MEDIUM\"\n",
    "    if volume >= Q3:\n",
    "        new_volumes.loc[[case_id],['Size']] = \"LARGE\""
   ]
  },
  {
   "cell_type": "code",
   "execution_count": null,
   "id": "1ca27ac3-68df-48b2-890e-989408dfa7b3",
   "metadata": {},
   "outputs": [],
   "source": [
    "name_mapping[\"Size\"] = new_volumes[\"Size\"].to_list()"
   ]
  },
  {
   "cell_type": "code",
   "execution_count": null,
   "id": "3bbe32a8-9cc4-47a0-b3e2-311d22ff14db",
   "metadata": {},
   "outputs": [],
   "source": [
    "strat_values = []\n",
    "for id in name_mapping.index:\n",
    "    grade = str(name_mapping.loc[[id],['Grade']].values[0][0])\n",
    "    size = str(name_mapping.loc[[id],['Size']].values[0][0])\n",
    "    strat_value = grade + \"_\" + size\n",
    "    strat_values.append(strat_value)"
   ]
  },
  {
   "cell_type": "code",
   "execution_count": null,
   "id": "54390797-d162-42ee-b1c4-348a1fd78656",
   "metadata": {},
   "outputs": [],
   "source": [
    "name_mapping[\"Stratification_Label\"] = strat_values\n",
    "del name_mapping[\"Size\"] "
   ]
  },
  {
   "cell_type": "code",
   "execution_count": null,
   "id": "65876262-de05-41e9-8e24-df179488ac62",
   "metadata": {},
   "outputs": [],
   "source": [
    "name_mapping"
   ]
  },
  {
   "cell_type": "code",
   "execution_count": null,
   "id": "3ebc31c7-f844-4b01-ad5a-b54d28474b6c",
   "metadata": {},
   "outputs": [],
   "source": [
    "name_mapping.to_csv(\"mapping/name_mapping.csv\", index=False)"
   ]
  },
  {
   "cell_type": "code",
   "execution_count": null,
   "id": "810a7094-1c3e-4c48-8bf4-31947ec3dc2f",
   "metadata": {},
   "outputs": [],
   "source": []
  },
  {
   "cell_type": "code",
   "execution_count": 18,
   "id": "ca0bac63-c169-40c6-8dc9-8477560df0a9",
   "metadata": {},
   "outputs": [],
   "source": [
    "original_features = pd.read_csv('output/ENS_mask_features.csv', index_col=0)\n",
    "name_mapping = pd.read_csv(\"mapping/name_mapping.csv\")"
   ]
  },
  {
   "cell_type": "code",
   "execution_count": 19,
   "id": "53133ead-4954-467e-b02e-73cf99f9b8f3",
   "metadata": {},
   "outputs": [],
   "source": [
    "volumes = original_features.loc[:, [\"original_shape_VoxelVolume\"]]"
   ]
  },
  {
   "cell_type": "code",
   "execution_count": 20,
   "id": "9d4329fc-b171-4b1b-b76d-6b09e96bb09b",
   "metadata": {},
   "outputs": [],
   "source": [
    "new_volumes = pd.DataFrame(index=name_mapping[\"BraTS_2020_subject_ID\"], columns=[\"original_shape_VoxelVolume\"])"
   ]
  },
  {
   "cell_type": "code",
   "execution_count": 21,
   "id": "1f1266a9-018a-4cae-a56c-acf3bcdc0eca",
   "metadata": {},
   "outputs": [],
   "source": [
    "for case_id in volumes.index:\n",
    "    if \"FLAIR\" in case_id:\n",
    "        new_name = case_id[0:20]\n",
    "        new_volumes.loc[new_name] = volumes.loc[case_id]"
   ]
  },
  {
   "cell_type": "code",
   "execution_count": 22,
   "id": "359428e7-e00b-4dd8-aa70-eaf8c1d2319c",
   "metadata": {},
   "outputs": [],
   "source": [
    "volume_list = []\n",
    "for case_id in new_volumes.index:\n",
    "    volume = float(new_volumes.loc[[case_id],['original_shape_VoxelVolume']].values[0])\n",
    "    volume_list.append(volume)"
   ]
  },
  {
   "cell_type": "code",
   "execution_count": 23,
   "id": "33f8a59e-4a88-4598-bbc0-f00b6a8a7160",
   "metadata": {},
   "outputs": [],
   "source": [
    "name_mapping[\"Volume-ENS\"] = volume_list"
   ]
  },
  {
   "cell_type": "code",
   "execution_count": 24,
   "id": "f901e7f0-da4d-4c3b-b5d5-41a8314f0a47",
   "metadata": {},
   "outputs": [],
   "source": [
    "name_mapping.to_csv(\"mapping/name_mapping.csv\", index=False)"
   ]
  },
  {
   "cell_type": "code",
   "execution_count": null,
   "id": "88e73cf1-2f66-40a8-be39-f685ebe390b6",
   "metadata": {},
   "outputs": [],
   "source": []
  }
 ],
 "metadata": {
  "kernelspec": {
   "display_name": "Python 3 (ipykernel)",
   "language": "python",
   "name": "python3"
  },
  "language_info": {
   "codemirror_mode": {
    "name": "ipython",
    "version": 3
   },
   "file_extension": ".py",
   "mimetype": "text/x-python",
   "name": "python",
   "nbconvert_exporter": "python",
   "pygments_lexer": "ipython3",
   "version": "3.7.11"
  }
 },
 "nbformat": 4,
 "nbformat_minor": 5
}

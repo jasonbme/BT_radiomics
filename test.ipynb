{
 "cells": [
  {
   "cell_type": "code",
   "execution_count": null,
   "id": "1928924a-e18d-402f-99c5-6303f4a3d9f3",
   "metadata": {},
   "outputs": [],
   "source": [
    "import pandas as pd\n",
    "import numpy as np\n",
    "from collections import Counter\n",
    "import sklearn\n",
    "from sklearn.model_selection import train_test_split\n",
    "from sklearn.preprocessing import StandardScaler\n",
    "from sklearn.feature_selection import SelectKBest, f_classif\n",
    "from sklearn.ensemble import RandomForestClassifier\n",
    "from sklearn.metrics import classification_report, confusion_matrix, accuracy_score,cohen_kappa_score, matthews_corrcoef\n",
    "from sklearn.model_selection import StratifiedKFold\n",
    "import matplotlib.pyplot as plt\n",
    "import statistics\n",
    "\n",
    "pd.options.mode.chained_assignment = None "
   ]
  },
  {
   "cell_type": "code",
   "execution_count": null,
   "id": "c98ae8cd-f904-4847-9f58-2211baf452ad",
   "metadata": {},
   "outputs": [],
   "source": [
    "def train_test_data_split(raw_data, train_mapping, test_mapping):\n",
    "    train_data = pd.DataFrame(columns=raw_data.columns)\n",
    "    test_data = pd.DataFrame(columns=raw_data.columns)\n",
    "    \n",
    "    for case_id in raw_data.index:\n",
    "        case_general_id = case_id[0:20]\n",
    "        if case_general_id in train_mapping.values[:,1]:\n",
    "            train_data.loc[case_id]= raw_data.loc[case_id, :]\n",
    "        elif case_general_id in test_mapping.values[:,1]:\n",
    "            test_data.loc[case_id]= raw_data.loc[case_id, :]\n",
    "            \n",
    "    return train_data, test_data"
   ]
  },
  {
   "cell_type": "code",
   "execution_count": null,
   "id": "4313c64b-67ff-4fd2-896c-5035fc16e6a6",
   "metadata": {},
   "outputs": [],
   "source": [
    "def equalize_mapping(mapping):\n",
    "    is_HGG =  mapping['Grade']=='HGG'\n",
    "    is_LGG =  mapping['Grade']=='LGG'\n",
    "    hggs = mapping[is_HGG]\n",
    "    lggs = mapping[is_LGG]\n",
    "    hggs = hggs.sample(n=len(lggs))\n",
    "    equalized_mapping = pd.concat([hggs, lggs])\n",
    "    return equalized_mapping"
   ]
  },
  {
   "cell_type": "code",
   "execution_count": null,
   "id": "3d1148d6-1902-4c56-81e3-f69c2519a14b",
   "metadata": {},
   "outputs": [],
   "source": [
    "def equalize_dataset(mapping, dataset):\n",
    "    mapping_ids = mapping[\"ID\"].tolist()\n",
    "    dataset.index = dataset.index.astype('str')\n",
    "    equalized_train_dataset = pd.DataFrame()\n",
    "    for id in mapping_ids:   \n",
    "        case_df = dataset[dataset.index.str.contains(id)]\n",
    "        equalized_train_dataset = pd.concat([equalized_train_dataset, case_df])\n",
    "    return equalized_train_dataset"
   ]
  },
  {
   "cell_type": "code",
   "execution_count": null,
   "id": "670886fb-e46a-4477-baf9-ca78ac96c3d6",
   "metadata": {},
   "outputs": [],
   "source": [
    "def split_modalities(input_data):\n",
    "    \n",
    "    flair= pd.DataFrame(columns=input_data.columns)\n",
    "    t1c = pd.DataFrame(columns=input_data.columns)\n",
    "    t1= pd.DataFrame(columns=input_data.columns)\n",
    "    t2 = pd.DataFrame(columns=input_data.columns)\n",
    "    \n",
    "    for case_id in input_data.index:\n",
    "        if \"FLAIR\" in case_id:\n",
    "            flair.loc[case_id]= input_data.loc[case_id, :]\n",
    "        elif \"T1C\" in case_id:\n",
    "            t1c.loc[case_id]= input_data.loc[case_id, :]\n",
    "        elif \"T1\" in case_id:\n",
    "            t1.loc[case_id]= input_data.loc[case_id, :]\n",
    "        elif \"T2\" in case_id:\n",
    "            t2.loc[case_id]= input_data.loc[case_id, :]\n",
    "            \n",
    "            \n",
    "    labels = (flair.loc[:, 'Grade']).to_numpy()\n",
    "    \n",
    "    flair.drop('Grade',axis='columns', inplace=True)\n",
    "    t1c.drop('Grade',axis='columns', inplace=True)\n",
    "    t1.drop('Grade',axis='columns', inplace=True)\n",
    "    t2.drop('Grade',axis='columns', inplace=True)\n",
    "    \n",
    "    return flair, t1c, t1, t2, labels"
   ]
  },
  {
   "cell_type": "code",
   "execution_count": null,
   "id": "04075c61-a040-4660-94e3-d41674c48784",
   "metadata": {},
   "outputs": [],
   "source": [
    "def select_features(dataset, number_of_features):\n",
    "    X = dataset.loc[:, dataset.columns != \"Grade\"]\n",
    "    Y = dataset.loc[:, \"Grade\"]\n",
    "    \n",
    "    standard_scaler = StandardScaler().fit(X)\n",
    "    X[X.columns] = standard_scaler.fit_transform(X[X.columns])\n",
    "    \n",
    "    select_k_best = SelectKBest(f_classif).fit(X, Y)\n",
    "    \n",
    "    scored_features = pd.DataFrame({'Feature':list(X.columns), 'Score':select_k_best.scores_})\n",
    "    scored_features.sort_values(by='Score', ascending=False, inplace=True)\n",
    "    scored_features.to_csv(\"output/scored_features.csv\")\n",
    "    \n",
    "    best_features = scored_features.nlargest(number_of_features,'Score')\n",
    "    best_features = best_features.loc[:, \"Feature\"]\n",
    "    # print(\"Selected features: \")\n",
    "    # print(best_features)\n",
    "    best_features.to_csv(\"output/best_features.csv\")\n",
    "\n",
    "    selected_features = X.loc[dataset.index, best_features]\n",
    "    selected_features[\"Grade\"] = Y\n",
    "    \n",
    "    return selected_features"
   ]
  },
  {
   "cell_type": "code",
   "execution_count": null,
   "id": "c18f3982-cf50-4838-8829-909f355918f1",
   "metadata": {},
   "outputs": [],
   "source": [
    "dataset = pd.read_csv(\"output/features.csv\", index_col=0)\n",
    "name_mapping = pd.read_csv(\"mapping/name_mapping.csv\")\n",
    "\n",
    "skf = StratifiedKFold(n_splits=2)\n",
    "\n",
    "X = name_mapping.values[:,1]\n",
    "y = name_mapping.values[:,0]\n",
    "\n",
    "number_of_features = 10\n",
    "\n",
    "for train_index, test_index in skf.split(X, y):\n",
    "     \n",
    "    X_train, X_test = X[train_index], X[test_index] \n",
    "    y_train, y_test = y[train_index], y[test_index]\n",
    "        \n",
    "    print(\"Train labels distribution:\", Counter(y_train))\n",
    "    print(\"Test labels distribution:\",Counter(y_test))\n",
    "    print(\"\\n\")\n",
    "\n",
    "    train_mapping = pd.DataFrame({'Grade': y_train, 'ID': X_train})    \n",
    "    test_mapping = pd.DataFrame({'Grade': y_test, 'ID': X_test})\n",
    "    equalized_train_mapping = equalize_mapping(train_mapping)\n",
    "        \n",
    "    (train_dataset, test_dataset) = train_test_data_split(dataset, train_mapping, test_mapping)\n",
    "    \n",
    "    reduced_train_dataset = select_features(train_dataset, number_of_features)"
   ]
  },
  {
   "cell_type": "code",
   "execution_count": null,
   "id": "a661e710-7ab3-43f3-981c-ee5c7e26390c",
   "metadata": {},
   "outputs": [],
   "source": []
  }
 ],
 "metadata": {
  "kernelspec": {
   "display_name": "Python 3 (ipykernel)",
   "language": "python",
   "name": "python3"
  },
  "language_info": {
   "codemirror_mode": {
    "name": "ipython",
    "version": 3
   },
   "file_extension": ".py",
   "mimetype": "text/x-python",
   "name": "python",
   "nbconvert_exporter": "python",
   "pygments_lexer": "ipython3",
   "version": "3.7.11"
  }
 },
 "nbformat": 4,
 "nbformat_minor": 5
}

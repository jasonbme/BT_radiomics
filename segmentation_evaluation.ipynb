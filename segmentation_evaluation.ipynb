{
 "cells": [
  {
   "cell_type": "code",
   "execution_count": 1,
   "id": "5ae163e1-d720-4f8c-920b-0efc1758f5ff",
   "metadata": {},
   "outputs": [],
   "source": [
    "from surface_distance import compute_surface_distances, compute_robust_hausdorff, compute_dice_coefficient\n",
    "import SimpleITK as sitk\n",
    "import numpy as np\n",
    "import pandas as pd\n",
    "import os"
   ]
  },
  {
   "cell_type": "code",
   "execution_count": 2,
   "id": "9ea0b614-fd04-41ab-81c2-7aa7c517f5b7",
   "metadata": {},
   "outputs": [],
   "source": [
    "def compute_metrics(mask_gt, mask_pred):\n",
    "    distances = compute_surface_distances(mask_gt, mask_pred, [1,1,1])\n",
    "    hausdorff = compute_robust_hausdorff(distances, 95)\n",
    "    dice = compute_dice_coefficient(mask_gt, mask_pred)\n",
    "    return dice, hausdorff"
   ]
  },
  {
   "cell_type": "code",
   "execution_count": 3,
   "id": "dd4d956b-9bee-4fe0-a671-c3ef7257655c",
   "metadata": {},
   "outputs": [],
   "source": [
    "columns = [\"ID\", \"2D-Dice\", \"2D-Hausdorff\", \"3D-Dice\", \"3D-Hausdorff\", \"ENS-Dice\", \"ENS-Hausdorff\"]\n",
    "metrics = pd.DataFrame(columns=columns)"
   ]
  },
  {
   "cell_type": "code",
   "execution_count": null,
   "id": "f1e8d18f-acc3-4fac-8d66-b316ea644436",
   "metadata": {},
   "outputs": [],
   "source": [
    "dir_path_gt = \"segmentations/GT-segmentation/\"\n",
    "dir_path_2D = \"segmentations/2D-segmentation/\"\n",
    "dir_path_3D = \"segmentations/3D-segmentation/\"\n",
    "dir_path_ENS = \"segmentations/ENS-segmentation/\"\n",
    "\n",
    "for image in os.listdir(dir_path_gt):\n",
    "    subject_id = image[0:20]\n",
    "    print(\"Working on: \" + subject_id)\n",
    "    \n",
    "    mask_gt = sitk.GetArrayFromImage(sitk.ReadImage(dir_path_gt + image))\n",
    "    mask_2D = sitk.GetArrayFromImage(sitk.ReadImage(dir_path_2D + image))\n",
    "    mask_3D = sitk.GetArrayFromImage(sitk.ReadImage(dir_path_3D + image))\n",
    "    mask_ENS = sitk.GetArrayFromImage(sitk.ReadImage(dir_path_ENS + image))\n",
    "    \n",
    "    mask_gt = np.array(mask_gt, dtype=bool)\n",
    "    mask_2D = np.array(mask_2D, dtype=bool)\n",
    "    mask_3D = np.array(mask_3D, dtype=bool)\n",
    "    mask_ENS = np.array(mask_ENS, dtype=bool)\n",
    "\n",
    "\n",
    "    metrics_2D = compute_metrics(mask_gt, mask_2D)\n",
    "    metrics_3D = compute_metrics(mask_gt, mask_3D)\n",
    "    metrics_ENS = compute_metrics(mask_gt, mask_gt)\n",
    "\n",
    "    metrics = metrics.append({\"ID\": subject_id, \"2D-Dice\": metrics_2D[0], \"2D-Hausdorff\": metrics_2D[1], \"3D-Dice\": metrics_3D[0], \"3D-Hausdorff\": metrics_3D[1],\n",
    "                              \"ENS-Dice\": metrics_ENS[0], \"ENS-Hausdorff\": metrics_ENS[1]}, ignore_index=True)"
   ]
  },
  {
   "cell_type": "code",
   "execution_count": null,
   "id": "5b05ce77-9f0c-4f91-91c0-53bbe40433dc",
   "metadata": {},
   "outputs": [],
   "source": [
    "metrics"
   ]
  },
  {
   "cell_type": "code",
   "execution_count": 8,
   "id": "43478523-bc9c-457f-81e1-d83fccd4074e",
   "metadata": {},
   "outputs": [],
   "source": [
    "metrics = metrics.sort_values([\"ID\"], ascending=True)"
   ]
  },
  {
   "cell_type": "code",
   "execution_count": 9,
   "id": "b9b9d974-6cbc-4581-8cf7-1c7c378f706a",
   "metadata": {},
   "outputs": [],
   "source": [
    "metrics = metrics.reset_index(drop=True)"
   ]
  },
  {
   "cell_type": "code",
   "execution_count": 10,
   "id": "2fc17249-4911-423b-91ff-8ba055c0b12d",
   "metadata": {},
   "outputs": [],
   "source": [
    "name_mapping = pd.read_csv(\"mapping/name_mapping.csv\")"
   ]
  },
  {
   "cell_type": "code",
   "execution_count": 11,
   "id": "f335510d-b316-4d3b-8e03-e2edcef3547b",
   "metadata": {},
   "outputs": [],
   "source": [
    "name_mapping[\"ENS-Dice\"] = metrics[\"ENS-Dice\"]\n",
    "name_mapping[\"ENS-Hausdorff\"] = metrics[\"ENS-Hausdorff\"]"
   ]
  },
  {
   "cell_type": "code",
   "execution_count": 12,
   "id": "5c229c26-10c0-4dec-acc6-8624075d41cf",
   "metadata": {},
   "outputs": [],
   "source": [
    "name_mapping.to_csv(\"mapping/name_mapping.csv\", index=False)"
   ]
  }
 ],
 "metadata": {
  "kernelspec": {
   "display_name": "Python 3 (ipykernel)",
   "language": "python",
   "name": "python3"
  },
  "language_info": {
   "codemirror_mode": {
    "name": "ipython",
    "version": 3
   },
   "file_extension": ".py",
   "mimetype": "text/x-python",
   "name": "python",
   "nbconvert_exporter": "python",
   "pygments_lexer": "ipython3",
   "version": "3.7.11"
  }
 },
 "nbformat": 4,
 "nbformat_minor": 5
}

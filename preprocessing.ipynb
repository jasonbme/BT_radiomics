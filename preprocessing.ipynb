{
 "cells": [
  {
   "cell_type": "code",
   "execution_count": 1,
   "id": "ec0e5685-e793-4780-a517-c8aeb8ac94dd",
   "metadata": {},
   "outputs": [],
   "source": [
    "import os\n",
    "import shutil\n",
    "from pathlib import Path\n",
    "import pandas as pd\n",
    "import sklearn\n",
    "from sklearn.model_selection import train_test_split\n",
    "from collections import Counter\n",
    "from shutil import copy2\n"
   ]
  },
  {
   "cell_type": "code",
   "execution_count": 2,
   "id": "5aec75fd-51be-4334-b0d5-79009586caf7",
   "metadata": {},
   "outputs": [],
   "source": [
    "def preproces_name_mapping(file_path):\n",
    "    name_mapping = pd.read_csv(file_path, delimiter=\",\")\n",
    "    name_mapping.pop('BraTS_2017_subject_ID')\n",
    "    name_mapping.pop('BraTS_2018_subject_ID')\n",
    "    name_mapping.pop('TCGA_TCIA_subject_ID')\n",
    "    name_mapping.pop('BraTS_2019_subject_ID')\n",
    "    name_mapping.to_csv(\"data/name_mapping.csv\", index=False)\n"
   ]
  },
  {
   "cell_type": "code",
   "execution_count": 3,
   "id": "0a440448-4ae8-4c59-a7e4-4714e301ac07",
   "metadata": {},
   "outputs": [],
   "source": [
    "def convert_to_nnUnet_format(folder_path):\n",
    "    main_dir_path = folder_path\n",
    "    \n",
    "    images_ts_dir = \"imagesTs\"\n",
    "    labels_ts_dir = \"labelsTs\"\n",
    "    \n",
    "    Path(main_dir_path + images_ts_dir).mkdir(parents=True, exist_ok=True)\n",
    "    Path(main_dir_path + labels_ts_dir).mkdir(parents=True, exist_ok=True)\n",
    "                     \n",
    "    for directory in os.listdir(main_dir_path):\n",
    "        if \"BraTS20_Training\" in directory:\n",
    "            for image in os.listdir(main_dir_path + directory):\n",
    "                    if \"_seg\" in image:\n",
    "                        shutil.move(main_dir_path + directory + \"/\" + image, main_dir_path + labels_ts_dir)\n",
    "                    if \"_flair\" in image:\n",
    "                        new_name = image.replace(\"_flair\",\"_0000\")\n",
    "                        os.rename(main_dir_path + directory + \"/\" + image, main_dir_path + directory + \"/\" + new_name)\n",
    "                        shutil.move(main_dir_path + directory + \"/\" + new_name, main_dir_path + images_ts_dir)\n",
    "                    elif \"_t1ce\" in image:\n",
    "                        new_name = image.replace(\"_t1ce\",\"_0002\")\n",
    "                        os.rename(main_dir_path + directory + \"/\" + image, main_dir_path + directory + \"/\" + new_name)\n",
    "                        shutil.move(main_dir_path + directory + \"/\" + new_name, main_dir_path + images_ts_dir)\n",
    "                    elif \"_t1\" in image:\n",
    "                        new_name = image.replace(\"_t1\",\"_0001\")\n",
    "                        os.rename(main_dir_path + directory + \"/\" + image,main_dir_path + directory + \"/\" + new_name)\n",
    "                        shutil.move(main_dir_path + directory + \"/\" + new_name, main_dir_path + images_ts_dir)\n",
    "                    elif \"_t2\" in image:\n",
    "                        new_name = image.replace(\"_t2\",\"_0003\")\n",
    "                        os.rename(main_dir_path + directory + \"/\" + image,main_dir_path + directory + \"/\" + new_name)\n",
    "                        shutil.move(main_dir_path + directory + \"/\" + new_name, main_dir_path + images_ts_dir)\n",
    "            os.rmdir(main_dir_path + directory)\n",
    "\n"
   ]
  },
  {
   "cell_type": "code",
   "execution_count": 8,
   "id": "20f7c722-c5b2-4e8f-ae6d-dd96cf7ea95e",
   "metadata": {},
   "outputs": [],
   "source": [
    "def convert_to_extraction_format(folder_path):\n",
    "    main_dir_path = folder_path\n",
    "    for directory in os.listdir(main_dir_path):\n",
    "        if \"BraTS20_Training\" in directory:\n",
    "                for image in os.listdir(main_dir_path + directory):\n",
    "                        if \"_flair\" in image:\n",
    "                            new_name = image.replace(\"_flair\",\"_0000\")\n",
    "                            os.rename(main_dir_path + directory + \"/\" + image, main_dir_path + directory + \"/\" + new_name)\n",
    "                        elif \"_t1ce\" in image:\n",
    "                            new_name = image.replace(\"_t1ce\",\"_0002\")\n",
    "                            os.rename(main_dir_path + directory + \"/\" + image, main_dir_path + directory + \"/\" + new_name)\n",
    "                        elif \"_t1\" in image:\n",
    "                            new_name = image.replace(\"_t1\",\"_0001\")\n",
    "                            os.rename(main_dir_path + directory + \"/\" + image, main_dir_path + directory + \"/\" + new_name)\n",
    "                        elif \"_t2\" in image:\n",
    "                            new_name = image.replace(\"_t2\",\"_0003\")\n",
    "                            os.rename(main_dir_path + directory + \"/\" + image, main_dir_path + directory + \"/\" + new_name)\n",
    "                        elif \"_seg\" in image:\n",
    "                            new_name = image.replace(\"_seg\", \"_MASK\")\n",
    "                            os.rename(main_dir_path + directory + \"/\" + image, main_dir_path + directory + \"/\" + new_name)"
   ]
  },
  {
   "cell_type": "code",
   "execution_count": null,
   "id": "50643303-6d1f-491f-af4a-e6e3c89fa781",
   "metadata": {},
   "outputs": [],
   "source": [
    "preproces_name_mapping(\"mapping/name_mapping.csv\")"
   ]
  },
  {
   "cell_type": "code",
   "execution_count": null,
   "id": "276e7588-c978-46ca-8d08-dda17a7767ab",
   "metadata": {},
   "outputs": [],
   "source": [
    "convert_to_nnUnet_format(\"/Users/I517596/Downloads/MICCAI_BraTS2020_TrainingData-nnUNet/\")"
   ]
  },
  {
   "cell_type": "code",
   "execution_count": 9,
   "id": "898f273a-d717-463a-9c6a-248c3a777067",
   "metadata": {},
   "outputs": [],
   "source": [
    "convert_to_extraction_format(\"/Users/I517596/Downloads/MICCAI_BraTS2020_TrainingData/\")"
   ]
  },
  {
   "cell_type": "code",
   "execution_count": null,
   "id": "e4df7716-da2d-46b8-afc2-47d2b98f2136",
   "metadata": {},
   "outputs": [],
   "source": []
  },
  {
   "cell_type": "code",
   "execution_count": 6,
   "id": "ff0deba2-9937-4b37-a090-546b27193ac5",
   "metadata": {},
   "outputs": [],
   "source": [
    "folder_path = \"/Users/I517596/jupyter-notebooks/final-project/segmentations/ENS-segmentation/\"\n",
    "dest_path = \"/Users/I517596/jupyter-notebooks/final-project/data/\"\n",
    "\n",
    "for file in os.listdir(folder_path):\n",
    "    if \"BraTS20_Training\" in file:\n",
    "        name = file[0:20]\n",
    "        copy2(folder_path + file, dest_path + name)"
   ]
  },
  {
   "cell_type": "code",
   "execution_count": null,
   "id": "9a45f646-ce6e-4dbf-bf78-d478c4770bac",
   "metadata": {},
   "outputs": [],
   "source": []
  }
 ],
 "metadata": {
  "kernelspec": {
   "display_name": "Python 3 (ipykernel)",
   "language": "python",
   "name": "python3"
  },
  "language_info": {
   "codemirror_mode": {
    "name": "ipython",
    "version": 3
   },
   "file_extension": ".py",
   "mimetype": "text/x-python",
   "name": "python",
   "nbconvert_exporter": "python",
   "pygments_lexer": "ipython3",
   "version": "3.7.11"
  }
 },
 "nbformat": 4,
 "nbformat_minor": 5
}

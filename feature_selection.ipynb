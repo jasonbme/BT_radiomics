{
 "cells": [
  {
   "cell_type": "code",
   "execution_count": 2,
   "id": "4d279c62-5058-4f80-b698-287da3ec792d",
   "metadata": {},
   "outputs": [],
   "source": [
    "import os\n",
    "import logging\n",
    "import pandas as pd\n",
    "import numpy as np\n",
    "import SimpleITK as sitk\n",
    "import radiomics\n",
    "from radiomics import featureextractor\n",
    "from sklearn.feature_selection import SelectKBest, chi2\n",
    "from sklearn.preprocessing import MinMaxScaler\n",
    "\n",
    "pd.options.mode.chained_assignment = None "
   ]
  },
  {
   "cell_type": "code",
   "execution_count": 3,
   "id": "4e3d46df-0a1a-476c-a0ca-210d0eb3f99e",
   "metadata": {},
   "outputs": [],
   "source": [
    "def prepare_files_to_extraction(main_dir_path):\n",
    "    case_vector = {}\n",
    "\n",
    "    for case_dir in os.listdir(main_dir_path):\n",
    "        if os.path.isdir(main_dir_path + '/' + case_dir):\n",
    "            case_id = case_dir\n",
    "            modality_dict = {}\n",
    "            if os.path.isdir(main_dir_path + '/' + case_id):\n",
    "                for file in os.listdir(main_dir_path + '/' + case_id):\n",
    "                    case_specific_id = file[21:25]\n",
    "                    if case_specific_id == '0000':\n",
    "                        modality_dict['FLAIR'] = main_dir_path + '/' + case_id + '/' + file\n",
    "                    elif case_specific_id == '0001':\n",
    "                        modality_dict['T1'] = main_dir_path + '/' + case_id + '/' + file\n",
    "                    elif case_specific_id == '0002':\n",
    "                        modality_dict['T1C'] = main_dir_path + '/' + case_id + '/' + file\n",
    "                    elif case_specific_id == '0003':\n",
    "                        modality_dict['T2'] = main_dir_path + '/' + case_id + '/' + file\n",
    "                    elif case_specific_id == 'MASK':\n",
    "                        modality_dict['MASK'] = main_dir_path + '/' + case_id + '/' + file\n",
    "                    else:\n",
    "                        print('Wrong file %s found in case folder: %s' % (file, case_id))\n",
    "                        exit()\n",
    "            case_vector[case_id] = modality_dict\n",
    "    return case_vector"
   ]
  },
  {
   "cell_type": "code",
   "execution_count": 4,
   "id": "735cb0ba-95f1-4a7a-9af2-f1119d6a1991",
   "metadata": {},
   "outputs": [],
   "source": [
    "def initialize_extractor():\n",
    "    settings = {'binWidth': 25, 'resampledPixelSpacing': None, 'interpolator': sitk.sitkBSpline}\n",
    "    extractor = featureextractor.RadiomicsFeatureExtractor(**settings)\n",
    "    return extractor"
   ]
  },
  {
   "cell_type": "code",
   "execution_count": 5,
   "id": "b033f34c-c0ad-4e23-a6f9-4c20d66b5ba6",
   "metadata": {},
   "outputs": [],
   "source": [
    "def extract_features(case_vector, extractor):\n",
    "    feature_vector = {}\n",
    "\n",
    "    for case_id in sorted(case_vector.keys()):\n",
    "        print(\"Working on case: \", case_id)\n",
    "        case_feature_vector = {}\n",
    "        \n",
    "        modality_list = case_vector[case_id]\n",
    "        mask = modality_list[\"MASK\"]\n",
    "        modality_list.pop(\"MASK\")\n",
    "        \n",
    "        for modality in sorted(modality_list.keys()):\n",
    "            print('Calculating features for modality: ', modality)\n",
    "            image = modality_list[modality]\n",
    "            if image is None or mask is None:\n",
    "                print('There is no image in case ' + case_id + ' modality ' + modality)\n",
    "                exit()\n",
    "            local_feature_vector = extractor.execute(image, mask)\n",
    "\n",
    "            for feature_name in local_feature_vector.copy().keys():\n",
    "                if \"diagnostics_\" in feature_name:\n",
    "                    local_feature_vector.pop(feature_name)\n",
    "            for feature_name in local_feature_vector.copy().keys():\n",
    "                if type(local_feature_vector[feature_name]) ==  np.ndarray:\n",
    "                    local_feature_vector[feature_name] = local_feature_vector[feature_name].tolist()\n",
    "            case_feature_vector[modality] = local_feature_vector\n",
    "\n",
    "        feature_vector[case_id] = case_feature_vector\n",
    "    return feature_vector"
   ]
  },
  {
   "cell_type": "code",
   "execution_count": 6,
   "id": "9323f9ea-63d8-43fd-a87e-d657a5467c34",
   "metadata": {},
   "outputs": [],
   "source": [
    "def format_features(feature_vector, mapping_case_ids, mapping_case_grades):\n",
    "    case_ids = []\n",
    "    feature_ids = []\n",
    "    flattened_feature_vector = {}\n",
    "\n",
    "    for case_id in feature_vector.keys():\n",
    "        case_vector = feature_vector[case_id]\n",
    "        for modality_id in case_vector.keys():\n",
    "            modality_vector = case_vector[modality_id]\n",
    "            flattened_feature_vector[case_id + \"_\" + modality_id] = modality_vector\n",
    "            case_ids.append(case_id + \"_\" + modality_id)\n",
    "\n",
    "    case_vector = feature_vector[list(feature_vector.keys())[0]]\n",
    "    modality_vector = case_vector[list(case_vector.keys())[0]]\n",
    "\n",
    "    for feature_name in modality_vector.keys():\n",
    "        feature_ids.append(feature_name)\n",
    "    feature_ids.append(\"Grade\")\n",
    "\n",
    "    features = pd.DataFrame(index=case_ids ,columns=feature_ids)\n",
    "    j = 0\n",
    "    for case_id in flattened_feature_vector.keys():\n",
    "        case_vector = flattened_feature_vector[case_id]\n",
    "        feature_values = []\n",
    "\n",
    "        for feature_name in case_vector.keys():\n",
    "            feature_value = case_vector[feature_name]\n",
    "            feature_values.append(feature_value)\n",
    "            \n",
    "        case_general_id = case_id[0:20]\n",
    "        \n",
    "        if case_general_id in mapping_case_ids:\n",
    "            index = np.where(mapping_case_ids == case_general_id)\n",
    "            feature_values.append(mapping_case_grades[index][0])\n",
    "\n",
    "        for i in range(len(feature_values)):\n",
    "            features.iloc[j][i] = feature_values[i]\n",
    "        j += 1\n",
    "        \n",
    "    return features"
   ]
  },
  {
   "cell_type": "code",
   "execution_count": 7,
   "id": "c1cf00de-c590-43db-9487-02863598b17f",
   "metadata": {},
   "outputs": [],
   "source": [
    "def preprocess_features(features):\n",
    "    X = features.loc[:, features.columns != \"Grade\"]\n",
    "    Y = features.loc[:, \"Grade\"]\n",
    "    \n",
    "    min_max_scaler = MinMaxScaler()\n",
    "    X[X.columns] = min_max_scaler.fit_transform(X[X.columns])\n",
    "    \n",
    "    return X, Y"
   ]
  },
  {
   "cell_type": "code",
   "execution_count": 8,
   "id": "8c79477e-6646-4ddd-bdfb-ca0cf5693860",
   "metadata": {},
   "outputs": [],
   "source": [
    "def select_features(X, Y):\n",
    "    select_k_best = SelectKBest(chi2, k=10).fit(X, Y)\n",
    "    \n",
    "    scored_features = pd.DataFrame({'Feature':list(X.columns), 'Score':select_k_best.scores_})\n",
    "    scored_features.sort_values(by='Score', ascending=False, inplace=True)\n",
    "    # scored_features.to_csv(\"output/scored_features.csv\")\n",
    "    \n",
    "    best_features = scored_features.nlargest(10,'Score')\n",
    "    \n",
    "    selected_features = X.loc[features.index, best_features.loc[:, \"Feature\"]]\n",
    "    selected_features[\"Grade\"] = Y\n",
    "    # select_features.to_csv(\"output/selected_features.csv\")\n",
    "    \n",
    "    return selected_features"
   ]
  },
  {
   "cell_type": "code",
   "execution_count": 9,
   "id": "d10f7f89-c560-4ce9-b351-57b951bd938c",
   "metadata": {},
   "outputs": [],
   "source": [
    "extractor = initialize_extractor()"
   ]
  },
  {
   "cell_type": "code",
   "execution_count": 10,
   "id": "a35c3ac5-3a06-4e93-a380-02d9551ee0a2",
   "metadata": {},
   "outputs": [],
   "source": [
    "case_vector = prepare_files_to_extraction('path_to_data')"
   ]
  },
  {
   "cell_type": "code",
   "execution_count": 11,
   "id": "0e248085-0a91-4075-a255-288432c536e9",
   "metadata": {},
   "outputs": [
    {
     "name": "stdout",
     "output_type": "stream",
     "text": [
      "Working on case:  BraTS20_Training_001\n",
      "Calculating features for modality:  FLAIR\n"
     ]
    },
    {
     "name": "stderr",
     "output_type": "stream",
     "text": [
      "GLCM is symmetrical, therefore Sum Average = 2 * Joint Average, only 1 needs to be calculated\n"
     ]
    },
    {
     "name": "stdout",
     "output_type": "stream",
     "text": [
      "Calculating features for modality:  T1\n"
     ]
    },
    {
     "name": "stderr",
     "output_type": "stream",
     "text": [
      "GLCM is symmetrical, therefore Sum Average = 2 * Joint Average, only 1 needs to be calculated\n"
     ]
    },
    {
     "name": "stdout",
     "output_type": "stream",
     "text": [
      "Calculating features for modality:  T1C\n"
     ]
    },
    {
     "name": "stderr",
     "output_type": "stream",
     "text": [
      "GLCM is symmetrical, therefore Sum Average = 2 * Joint Average, only 1 needs to be calculated\n"
     ]
    },
    {
     "name": "stdout",
     "output_type": "stream",
     "text": [
      "Calculating features for modality:  T2\n"
     ]
    },
    {
     "name": "stderr",
     "output_type": "stream",
     "text": [
      "GLCM is symmetrical, therefore Sum Average = 2 * Joint Average, only 1 needs to be calculated\n"
     ]
    },
    {
     "name": "stdout",
     "output_type": "stream",
     "text": [
      "Working on case:  BraTS20_Training_002\n",
      "Calculating features for modality:  FLAIR\n"
     ]
    },
    {
     "name": "stderr",
     "output_type": "stream",
     "text": [
      "GLCM is symmetrical, therefore Sum Average = 2 * Joint Average, only 1 needs to be calculated\n"
     ]
    },
    {
     "name": "stdout",
     "output_type": "stream",
     "text": [
      "Calculating features for modality:  T1\n"
     ]
    },
    {
     "name": "stderr",
     "output_type": "stream",
     "text": [
      "GLCM is symmetrical, therefore Sum Average = 2 * Joint Average, only 1 needs to be calculated\n"
     ]
    },
    {
     "name": "stdout",
     "output_type": "stream",
     "text": [
      "Calculating features for modality:  T1C\n"
     ]
    },
    {
     "name": "stderr",
     "output_type": "stream",
     "text": [
      "GLCM is symmetrical, therefore Sum Average = 2 * Joint Average, only 1 needs to be calculated\n"
     ]
    },
    {
     "name": "stdout",
     "output_type": "stream",
     "text": [
      "Calculating features for modality:  T2\n"
     ]
    },
    {
     "name": "stderr",
     "output_type": "stream",
     "text": [
      "GLCM is symmetrical, therefore Sum Average = 2 * Joint Average, only 1 needs to be calculated\n"
     ]
    }
   ],
   "source": [
    "feature_vector = extract_features(case_vector, extractor)"
   ]
  },
  {
   "cell_type": "code",
   "execution_count": 12,
   "id": "c397de20-41aa-4a56-adf0-50e69d2b197e",
   "metadata": {},
   "outputs": [],
   "source": [
    "name_mapping = pd.read_csv(\"data/name_mapping.csv\")\n",
    "\n",
    "case_ids = name_mapping.values[:,1]\n",
    "case_grades = name_mapping.values[:,0]"
   ]
  },
  {
   "cell_type": "code",
   "execution_count": 13,
   "id": "010c94d7-c3cc-4982-8ed2-7a49c1d4a605",
   "metadata": {},
   "outputs": [],
   "source": [
    "features = format_features(feature_vector, case_ids, case_grades)"
   ]
  },
  {
   "cell_type": "code",
   "execution_count": 14,
   "id": "fa718543-560f-47bf-b31c-88fdad608e06",
   "metadata": {},
   "outputs": [],
   "source": [
    "X, Y = preprocess_features(features)"
   ]
  },
  {
   "cell_type": "code",
   "execution_count": 15,
   "id": "75e59cf1-919a-4f63-9028-49194e7085de",
   "metadata": {},
   "outputs": [],
   "source": [
    "selected_features = select_features(X, Y)"
   ]
  },
  {
   "cell_type": "code",
   "execution_count": null,
   "id": "bb9ba665-aa42-44b6-8b76-444b70f51691",
   "metadata": {},
   "outputs": [],
   "source": []
  }
 ],
 "metadata": {
  "kernelspec": {
   "display_name": "Python 3 (ipykernel)",
   "language": "python",
   "name": "python3"
  },
  "language_info": {
   "codemirror_mode": {
    "name": "ipython",
    "version": 3
   },
   "file_extension": ".py",
   "mimetype": "text/x-python",
   "name": "python",
   "nbconvert_exporter": "python",
   "pygments_lexer": "ipython3",
   "version": "3.7.11"
  }
 },
 "nbformat": 4,
 "nbformat_minor": 5
}
